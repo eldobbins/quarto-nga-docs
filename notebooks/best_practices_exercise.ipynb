{
  "nbformat": 4,
  "nbformat_minor": 0,
  "metadata": {
    "colab": {
      "provenance": []
    },
    "kernelspec": {
      "name": "python3",
      "display_name": "Python 3"
    },
    "language_info": {
      "name": "python"
    }
  },
  "cells": [
    {
      "cell_type": "markdown",
      "source": [
        "# Best Practices Exercise\n",
        "\n",
        "What follows is some example code from the official [Python Tutorial](https://docs.python.org/3/tutorial/controlflow.html#defining-functions). There is nothing wrong with the syntax. But can you tell what it does and how to use it?\n",
        "\n",
        "We are going to explore this code and improve it by following programming best practices. In the process, we will gain experience with Notebooks and with running Python functions.\n",
        "\n",
        "Make a copy of this Notebook in your own Google Drive, and then follow the instructions in the following cells. You will probably want to add more cells as you go along."
      ],
      "metadata": {
        "id": "lHVWFGOHPlCM"
      }
    },
    {
      "cell_type": "code",
      "execution_count": 1,
      "metadata": {
        "id": "x-Y0y_BfO5nC"
      },
      "outputs": [],
      "source": [
        "def fib(n):\n",
        "    a, b = 0, 1\n",
        "    while a < n:\n",
        "        print(a, ' ')\n",
        "        a, b = b, a+b\n",
        "    print()"
      ]
    },
    {
      "cell_type": "code",
      "source": [
        "# Add a command to this cell that executes the function.\n",
        "# Run it with a few different inputs till you get a good idea of what it does.\n",
        "\n",
        "fib(20)"
      ],
      "metadata": {
        "id": "Tl9ZFYRxPDzb",
        "colab": {
          "base_uri": "https://localhost:8080/"
        },
        "outputId": "17d05f9b-6e1f-4a20-a36b-03852c3941c6"
      },
      "execution_count": 2,
      "outputs": [
        {
          "output_type": "stream",
          "name": "stdout",
          "text": [
            "0  \n",
            "1  \n",
            "1  \n",
            "2  \n",
            "3  \n",
            "5  \n",
            "8  \n",
            "13  \n",
            "\n"
          ]
        }
      ]
    },
    {
      "cell_type": "code",
      "source": [
        "fib(100)"
      ],
      "metadata": {
        "colab": {
          "base_uri": "https://localhost:8080/"
        },
        "id": "pf2Z7gguhtga",
        "outputId": "cb88c847-173c-4c99-da56-ae2354cfee97"
      },
      "execution_count": 3,
      "outputs": [
        {
          "output_type": "stream",
          "name": "stdout",
          "text": [
            "0  \n",
            "1  \n",
            "1  \n",
            "2  \n",
            "3  \n",
            "5  \n",
            "8  \n",
            "13  \n",
            "21  \n",
            "34  \n",
            "55  \n",
            "89  \n",
            "\n"
          ]
        }
      ]
    },
    {
      "cell_type": "markdown",
      "source": [
        "## Begin Revisions\n",
        "\n",
        "Copy the original function to the next cell, and add comments that explain...\n",
        "\n",
        "* What is the purpose of the function?\n",
        "* What is the input argument?\n",
        "* What are the variables within the function? (since it isn't clear from their names)\n",
        "\n",
        "### Testing\n",
        "\n",
        "When you make changes to the code, be sure and test the output to make sure you didn't change the operation. You can add the execution command beneath the function and compare the output to what you got before.\n",
        "\n",
        "There are automated ways to do this; this is called `unit testing`. It is a critical element of software development. Comparing printed output is fine for now."
      ],
      "metadata": {
        "id": "Fb_183jfU2pE"
      }
    },
    {
      "cell_type": "code",
      "source": [
        "# Add your commented code and the execution line to this cell.  Add comments and run it a few more times.\n",
        "\n",
        "def fib(n):\n",
        "    # This calculates the Fibonacci Sequence and prints the values.\n",
        "    # https://www.mathsisfun.com/numbers/fibonacci-sequence.html\n",
        "    # n is the input target number to end the calculation (integer)\n",
        "\n",
        "    # assign initial values to current and next variables\n",
        "    a, b = 0, 1\n",
        "\n",
        "    # In the Fibonacci Sequence, the current number is the sum of the previous two numbers\n",
        "    while a < n:\n",
        "        print(a, ' ')\n",
        "        # next becomes current. calculate next sum simultaneously\n",
        "        a, b = b, a+b\n",
        "    print()\n",
        "\n",
        "fib(20)"
      ],
      "metadata": {
        "id": "fjTVfg_mRt7q",
        "colab": {
          "base_uri": "https://localhost:8080/"
        },
        "outputId": "d789e5a8-97c6-4c82-a081-06a0456e0015"
      },
      "execution_count": 4,
      "outputs": [
        {
          "output_type": "stream",
          "name": "stdout",
          "text": [
            "0  \n",
            "1  \n",
            "1  \n",
            "2  \n",
            "3  \n",
            "5  \n",
            "8  \n",
            "13  \n",
            "\n"
          ]
        }
      ]
    },
    {
      "cell_type": "markdown",
      "source": [
        "## Simplify Code\n",
        "\n",
        "After adding comments, are there still parts of the code that you don't understand?\n",
        "\n",
        "For instance, `a, b = b, a+b` to Python means \"create a tuple and then assign it to two variables with a _destructuring_ assignment\". The advantage of this is that both `a` and `b` are assigned new values simultaneously; the orginal value of `b` will be used for both.\n",
        "\n",
        "If you don't know what that means, it might be best reorganize the code in a way to do understand. Feel free to make another copy in the next cell and break those assignments into separate lines. You will need a temporary place to stash the orginal value of `b`.\n",
        "\n"
      ],
      "metadata": {
        "id": "vfOyAi5SZJkv"
      }
    },
    {
      "cell_type": "code",
      "source": [
        "# If you want to, add your commented code with the execution line to this cell\n",
        "# and change the commands to ones you understand.\n",
        "# Make sure you didn't change the answer!\n",
        "\n",
        "def fib(n):\n",
        "    # This calculates the Fibonacci Sequence and prints the values.\n",
        "    # https://www.mathsisfun.com/numbers/fibonacci-sequence.html\n",
        "    # n is the input target number to end the calculation (integer)\n",
        "\n",
        "    # assign initial values to current and next variables\n",
        "    a = 0\n",
        "    b = 1\n",
        "\n",
        "    # In the Fibonacci Sequence, the current number is the sum of the previous two numbers\n",
        "    while a < n:\n",
        "        print(a, ' ')\n",
        "        # next becomes current, and calculate next sum simultaneously\n",
        "        c = a + b\n",
        "        a = b\n",
        "        b = c\n",
        "    print()\n",
        "\n",
        "fib(20)\n",
        "\n"
      ],
      "metadata": {
        "id": "wT8LMV4YZpAD",
        "colab": {
          "base_uri": "https://localhost:8080/"
        },
        "outputId": "a3fec376-5099-408e-d8d7-25c128c243b5"
      },
      "execution_count": 5,
      "outputs": [
        {
          "output_type": "stream",
          "name": "stdout",
          "text": [
            "0  \n",
            "1  \n",
            "1  \n",
            "2  \n",
            "3  \n",
            "5  \n",
            "8  \n",
            "13  \n",
            "\n"
          ]
        }
      ]
    },
    {
      "cell_type": "markdown",
      "source": [
        "## Self Documenting Code\n",
        "\n",
        "For the next revision, make another copy and change the function and variable names so they are more descriptive.  \n",
        "\n",
        "You can also annotate the function call to specify the type of the argument using [typing](https://docs.python.org/3/library/typing.html).\n",
        "\n",
        "When you are done:\n",
        "\n",
        "* What comments can you remove after you make this change?\n",
        "* Does removing comments make the code easier or harder to read?\n",
        "  * Note: your answer to this depends on your style, and may evolve in time"
      ],
      "metadata": {
        "id": "ulfCT_JNVRyU"
      }
    },
    {
      "cell_type": "code",
      "source": [
        "# Add the next version here.\n",
        "\n",
        "def fibonacci_sequence(target: int) -> None:\n",
        "    # This calculates the Fibonacci Sequence and prints the values.\n",
        "    # https://www.mathsisfun.com/numbers/fibonacci-sequence.html\n",
        "\n",
        "    # assign initial values to current and next variables\n",
        "    current = 0\n",
        "    next = 1\n",
        "\n",
        "    # print the sequence: the current number is the sum of the two previous\n",
        "    while current < target:\n",
        "        print(current, ' ')\n",
        "        next_sum = current + next\n",
        "        current = next\n",
        "        next = next_sum\n",
        "\n",
        "fibonacci_sequence(20)\n"
      ],
      "metadata": {
        "id": "RUXc4rV3SLqT",
        "colab": {
          "base_uri": "https://localhost:8080/"
        },
        "outputId": "cabdb010-c5f2-460b-aa9f-1e6537159e88"
      },
      "execution_count": 6,
      "outputs": [
        {
          "output_type": "stream",
          "name": "stdout",
          "text": [
            "0  \n",
            "1  \n",
            "1  \n",
            "2  \n",
            "3  \n",
            "5  \n",
            "8  \n",
            "13  \n"
          ]
        }
      ]
    },
    {
      "cell_type": "markdown",
      "source": [
        "## Individuality\n",
        "\n",
        "By this time, your code might look very different from your neighbor's.  \n",
        "\n",
        "### That is completely fine!\n",
        "\n",
        "But your neighbor should be able to read your code and get what you are doing. Take a minute to compare your Notebook to other people's."
      ],
      "metadata": {
        "id": "Hcr8vplPcSUm"
      }
    },
    {
      "cell_type": "markdown",
      "source": [
        "## Epilogue\n",
        "\n",
        "When I wrote the descriptive code, I realized that the loop is built in terms of `current` and `next`, and that conflicts a little with the formal definition of the Fibonacci Sequence. So I'm rewriting again to reflect the math better.\n",
        "\n",
        "Also, it is possible, and more compact, to write all the numbers on a single line, so do that too."
      ],
      "metadata": {
        "id": "Rf8_e6wCRPWy"
      }
    },
    {
      "cell_type": "code",
      "source": [
        "\n",
        "def fibonacci_sequence(target: int) -> None:\n",
        "    # This calculates the Fibonacci Sequence and prints the values.\n",
        "    # https://www.mathsisfun.com/numbers/fibonacci-sequence.html\n",
        "\n",
        "    # assign initial values\n",
        "    previous = 0\n",
        "    current = 1\n",
        "\n",
        "    # print the sequence\n",
        "    print(previous, end=' ')\n",
        "    while current < target:\n",
        "        print(current, end=' ')\n",
        "        # the next number is the sum of the two numbers before it\n",
        "        next_sum = previous + current\n",
        "        previous = current\n",
        "        current = next_sum\n",
        "\n",
        "fibonacci_sequence(20)\n"
      ],
      "metadata": {
        "id": "R2_E5rbDcoSH",
        "colab": {
          "base_uri": "https://localhost:8080/"
        },
        "outputId": "c153101a-489c-4419-b1ba-5d53d2736d28"
      },
      "execution_count": 7,
      "outputs": [
        {
          "output_type": "stream",
          "name": "stdout",
          "text": [
            "0 1 1 2 3 5 8 13 "
          ]
        }
      ]
    },
    {
      "cell_type": "code",
      "source": [],
      "metadata": {
        "id": "s2mgvYE1SaP1"
      },
      "execution_count": 7,
      "outputs": []
    }
  ]
}