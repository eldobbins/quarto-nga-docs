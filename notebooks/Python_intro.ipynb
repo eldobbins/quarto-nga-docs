{
 "cells": [
  {
   "cell_type": "markdown",
   "id": "db0c5c2e-4d34-4bfe-9cf7-09a052c864e3",
   "metadata": {},
   "source": [
    "# Intro to Python\n",
    "### 2023 NGA LTER REU Students\n",
    "\n",
    "Contains brief coverage of:\n",
    "\n",
    "* Printing cell outputs (and comments)\n",
    "* Variables and type\n",
    "* Structured Data Types\n",
    "* Control structures (loops)\n",
    "* Functions\n",
    "\n",
    "Designed to take ~1 hour when combined with the Colab Welcome Notebook"
   ]
  },
  {
   "cell_type": "markdown",
   "id": "877d1c35-1ba9-4d0d-8716-33e3495ba04b",
   "metadata": {},
   "source": [
    "## Printing cell outputs (and comments)\n",
    "\n",
    "* output of last line will print to output cell\n",
    "* `print()` function also\n",
    "* comments don't print"
   ]
  },
  {
   "cell_type": "code",
   "execution_count": 1,
   "id": "4eed470a-51c0-4298-ba83-f172766761dc",
   "metadata": {},
   "outputs": [
    {
     "data": {
      "text/plain": [
       "3"
      ]
     },
     "execution_count": 1,
     "metadata": {},
     "output_type": "execute_result"
    }
   ],
   "source": [
    "1\n",
    "2\n",
    "3"
   ]
  },
  {
   "cell_type": "code",
   "execution_count": 2,
   "id": "a087bc7d-7a66-4fa5-b10d-a173c749f4ee",
   "metadata": {},
   "outputs": [
    {
     "name": "stdout",
     "output_type": "stream",
     "text": [
      "1\n",
      "2\n",
      "3\n"
     ]
    }
   ],
   "source": [
    "print(1)\n",
    "print(2)\n",
    "print(3)"
   ]
  },
  {
   "cell_type": "code",
   "execution_count": 3,
   "id": "f3c47c5d-b676-4d10-88e8-74985ea498ee",
   "metadata": {},
   "outputs": [],
   "source": [
    "# print(1)  command + / toggles line comment\n",
    "# print(2)\n",
    "# print(3)\n"
   ]
  },
  {
   "cell_type": "markdown",
   "id": "85e807e5-69de-4fc7-a297-baf5d5ada580",
   "metadata": {},
   "source": [
    "## Can do simple math\n",
    "\n",
    "Use it like a calculator"
   ]
  },
  {
   "cell_type": "code",
   "execution_count": 4,
   "id": "8f01c39c-89fd-47be-b6ff-f06819e096b2",
   "metadata": {},
   "outputs": [
    {
     "data": {
      "text/plain": [
       "3"
      ]
     },
     "execution_count": 4,
     "metadata": {},
     "output_type": "execute_result"
    }
   ],
   "source": [
    "1 + 2"
   ]
  },
  {
   "cell_type": "code",
   "execution_count": 5,
   "id": "b92ef94f-6edb-491e-bada-50bcb54bb173",
   "metadata": {},
   "outputs": [
    {
     "data": {
      "text/plain": [
       "349.60757209480767"
      ]
     },
     "execution_count": 5,
     "metadata": {},
     "output_type": "execute_result"
    }
   ],
   "source": [
    "4.6705 ** 3.8"
   ]
  },
  {
   "cell_type": "markdown",
   "id": "8cfe5f24-797b-4541-bfb5-54dafe861af8",
   "metadata": {},
   "source": [
    "## Define variables\n",
    "\n",
    "Define variables with `=`.  The variable is on the left and the value is on the right.\n",
    "\n",
    "Each of these has a type that defines what you can do with it. In other words, they are `objects` that have attributes and behavior.  The list of built in types is at https://docs.python.org/3/library/stdtypes.html.  Includes\n",
    "\n",
    "* int = integer number\n",
    "* float = floating point number\n",
    "* boolean = True or False\n",
    "* string = a list of characters\n",
    "\n",
    "Start with the example from the Colab Welcome."
   ]
  },
  {
   "cell_type": "code",
   "execution_count": 6,
   "id": "f6f9e36f-bf9a-4618-b352-071553eacbba",
   "metadata": {},
   "outputs": [
    {
     "data": {
      "text/plain": [
       "86400"
      ]
     },
     "execution_count": 6,
     "metadata": {},
     "output_type": "execute_result"
    }
   ],
   "source": [
    "seconds_in_a_day = 24 * 60 * 60\n",
    "seconds_in_a_day"
   ]
  },
  {
   "cell_type": "code",
   "execution_count": 7,
   "id": "8b47caee-b73b-46be-ac65-2133b3fdb899",
   "metadata": {},
   "outputs": [
    {
     "data": {
      "text/plain": [
       "int"
      ]
     },
     "execution_count": 7,
     "metadata": {},
     "output_type": "execute_result"
    }
   ],
   "source": [
    "# this is the type of our variable\n",
    "\n",
    "type(seconds_in_a_day)"
   ]
  },
  {
   "cell_type": "code",
   "execution_count": 8,
   "id": "037dd57c-5592-49bf-8985-1bceddb8fd0b",
   "metadata": {},
   "outputs": [
    {
     "name": "stdout",
     "output_type": "stream",
     "text": [
      "24\n",
      "you do not need to shout\n",
      "YOU DO NOT NEED TO SHOUT!!!!\n"
     ]
    },
    {
     "data": {
      "text/plain": [
       "str"
      ]
     },
     "execution_count": 8,
     "metadata": {},
     "output_type": "execute_result"
    }
   ],
   "source": [
    "# here is a more interesting type that has lots of functions and methods\n",
    "\n",
    "text = \"YOU DO NOT NEED TO SHOUT\"\n",
    "\n",
    "print(len(text))     # this is function - argument could be many objects\n",
    "\n",
    "print(text.lower())  # this is method - specific to a single object\n",
    "\n",
    "print(text + '!!!!') # can do math\n",
    "      \n",
    "type(text)"
   ]
  },
  {
   "cell_type": "code",
   "execution_count": 9,
   "id": "28d91d1b-9287-45a0-9f9e-0d8ee7b522b5",
   "metadata": {},
   "outputs": [],
   "source": [
    "# do they mix?  Nope. This causes an error.\n",
    "\n",
    "#text + seconds_in_a_day"
   ]
  },
  {
   "cell_type": "markdown",
   "id": "601833a9-c420-40c0-9c30-0b14bf675d50",
   "metadata": {},
   "source": [
    "## Values of variables can change\n",
    "\n",
    "Well, of course they can.  That is what programming is for.\n",
    "\n",
    "But not everything that looks like an assignment is.\n",
    "\n",
    "And using a Notebook, the order of operations matters. You can go back and run previous cells over again and get some very strange looking output. Try running these 3 cells in various orders."
   ]
  },
  {
   "cell_type": "code",
   "execution_count": 10,
   "id": "85b54e3c-cead-4673-94a0-f4b662bb7600",
   "metadata": {},
   "outputs": [
    {
     "data": {
      "text/plain": [
       "12"
      ]
     },
     "execution_count": 10,
     "metadata": {},
     "output_type": "execute_result"
    }
   ],
   "source": [
    "seconds = 12\n",
    "seconds"
   ]
  },
  {
   "cell_type": "code",
   "execution_count": 11,
   "id": "4328aa55-2ad1-4bc9-8947-0cdb777cd712",
   "metadata": {},
   "outputs": [
    {
     "data": {
      "text/plain": [
       "72"
      ]
     },
     "execution_count": 11,
     "metadata": {},
     "output_type": "execute_result"
    }
   ],
   "source": [
    "seconds = seconds + 60\n",
    "seconds"
   ]
  },
  {
   "cell_type": "code",
   "execution_count": 12,
   "id": "2a49a118-6f29-46de-bbf1-2f373b92ba39",
   "metadata": {},
   "outputs": [
    {
     "name": "stdout",
     "output_type": "stream",
     "text": [
      "78\n"
     ]
    },
    {
     "data": {
      "text/plain": [
       "72"
      ]
     },
     "execution_count": 12,
     "metadata": {},
     "output_type": "execute_result"
    }
   ],
   "source": [
    "print(seconds + 6)\n",
    "seconds"
   ]
  },
  {
   "cell_type": "markdown",
   "id": "f904b703-d928-4194-89db-e8434e636667",
   "metadata": {},
   "source": [
    "## Structured data\n",
    "\n",
    "In addition to variables with a single value, there are other types that have multiple elements. The main ones are \n",
    "\n",
    "* List\n",
    "* Dictionaries\n",
    "* (Set)\n",
    "* (Tuple)\n",
    "* (Range)"
   ]
  },
  {
   "cell_type": "code",
   "execution_count": 13,
   "id": "8f829394-bfa1-4f39-a594-340ff559636c",
   "metadata": {},
   "outputs": [
    {
     "name": "stdout",
     "output_type": "stream",
     "text": [
      "<class 'list'>\n"
     ]
    }
   ],
   "source": [
    "# List = multiple values in order\n",
    "# This is a new type\n",
    "\n",
    "casts = [12, 13, 14]\n",
    "print(type(casts))"
   ]
  },
  {
   "cell_type": "code",
   "execution_count": 14,
   "id": "a97e0d1c-8997-4718-b264-26c96b23da47",
   "metadata": {},
   "outputs": [
    {
     "name": "stdout",
     "output_type": "stream",
     "text": [
      "['SKQ202010S', 12, 7.5, 32.666, 'Summer']\n"
     ]
    }
   ],
   "source": [
    "# They can contain values of multiple types\n",
    "\n",
    "cruise = ['SKQ202010S', 12, 7.5, 32.666, 'Summer']\n",
    "print(cruise)"
   ]
  },
  {
   "cell_type": "code",
   "execution_count": 15,
   "id": "2e6b521a-c02d-4c6e-bb6e-97c8f330d219",
   "metadata": {},
   "outputs": [
    {
     "name": "stdout",
     "output_type": "stream",
     "text": [
      "SKQ202010S\n",
      "['SKQ202010S', 12, 7.5]\n",
      "[7.5, 32.666, 'Summer']\n"
     ]
    }
   ],
   "source": [
    "# Can retrieve values by using the indices, just like strings\n",
    "# can get a subset of the list back\n",
    "\n",
    "print(cruise[0])\n",
    "print(cruise[:3])\n",
    "print(cruise[-3:])"
   ]
  },
  {
   "cell_type": "code",
   "execution_count": 16,
   "id": "d0a7854b-fea7-40d2-b431-ab32aa6993fe",
   "metadata": {},
   "outputs": [
    {
     "name": "stdout",
     "output_type": "stream",
     "text": [
      "{'id': 'SKQ202010S', 'temperature': 7.5, 'cast': 12}\n"
     ]
    }
   ],
   "source": [
    "# Dictionaries are collections of key:value pairs\n",
    "\n",
    "\n",
    "cruise = {'id': 'SKQ202010S',\n",
    "          'temperature': 7.5,\n",
    "          'cast': 12}\n",
    "          \n",
    "print(cruise)"
   ]
  },
  {
   "cell_type": "code",
   "execution_count": 17,
   "id": "22194b00-dcec-4e3f-b8d5-a9b06ec37928",
   "metadata": {},
   "outputs": [
    {
     "data": {
      "text/plain": [
       "'SKQ202010S'"
      ]
     },
     "execution_count": 17,
     "metadata": {},
     "output_type": "execute_result"
    }
   ],
   "source": [
    "# To retrieve values, use the key\n",
    "\n",
    "cruise['id']"
   ]
  },
  {
   "cell_type": "code",
   "execution_count": 18,
   "id": "0edbb1d6-3e48-46d6-9bd7-538d89875504",
   "metadata": {},
   "outputs": [],
   "source": [
    "# unlike lists, they are unordered. This causes an error\n",
    "\n",
    "#cruise[0]"
   ]
  },
  {
   "cell_type": "markdown",
   "id": "f39a7a08-311b-40c7-849b-58a683b8adfc",
   "metadata": {},
   "source": [
    "## Data Workflows and Automation\n",
    "\n",
    "There are other commands that control the order of operations in a program. These can repeat commands or choose some commands instead of others.\n",
    "\n",
    "* Many of these rely on Booleans: tests of True/False.\n",
    "* Note the use of `:` to signify the start of a loop\n",
    "* Note the use of 4 spaces to indicate the commands that will be repeated\n",
    "  * MATLAB uses the keyword `end` instead of indentations"
   ]
  },
  {
   "cell_type": "code",
   "execution_count": 19,
   "id": "cfe3eaa8-f603-459b-83e4-55eb6db534b9",
   "metadata": {},
   "outputs": [
    {
     "name": "stdout",
     "output_type": "stream",
     "text": [
      "0\n",
      "1\n",
      "2\n",
      "3\n",
      "4\n"
     ]
    }
   ],
   "source": [
    "# \"while\" repeats an operation while a condition is True\n",
    "\n",
    "n = 0\n",
    "while n < 5:\n",
    "    print(n)\n",
    "    n = n + 1"
   ]
  },
  {
   "cell_type": "code",
   "execution_count": 20,
   "id": "df12c75a-1dc9-449d-8f3c-b2b1dde1184b",
   "metadata": {},
   "outputs": [
    {
     "name": "stdout",
     "output_type": "stream",
     "text": [
      "0\n",
      "1\n",
      "2\n",
      "3\n",
      "4\n"
     ]
    }
   ],
   "source": [
    "# \"for\" will do the same repetition, with a different syntax\n",
    "\n",
    "for n in [0, 1, 2, 3, 4]:\n",
    "    print(n)"
   ]
  },
  {
   "cell_type": "code",
   "execution_count": 21,
   "id": "420d3a77-e4f7-4a35-b043-b369b22bf739",
   "metadata": {},
   "outputs": [
    {
     "name": "stdout",
     "output_type": "stream",
     "text": [
      "0\n",
      "hi!\n",
      "2\n",
      "hi!\n",
      "4\n"
     ]
    }
   ],
   "source": [
    "# \"if\" will determine whether to execute or not\n",
    "\n",
    "for n in [0, 1, 2, 3, 4]:\n",
    "    if n % 2 == 0:  # if n is even\n",
    "        print(n)\n",
    "    else:           # if n is odd\n",
    "        print('hi!')"
   ]
  },
  {
   "cell_type": "markdown",
   "id": "35acf0e8-c94f-4842-8a74-446ff2a870a6",
   "metadata": {},
   "source": [
    "## Functions\n",
    "\n",
    "For more complicated sets of instructions that will be repeated, or logic you want to keep separated for whatever reason, you can define a function. `print()` and `len()` are examples of functions we have already used.\n",
    "\n",
    "* Start the function definition with keyword `def`. Again there is an `:`\n",
    "* Again, indented with spaces\n",
    "* When call it, need parentheses even if there are no arguments\n",
    "  \n"
   ]
  },
  {
   "cell_type": "code",
   "execution_count": 22,
   "id": "b1cc065a-2f17-4213-8f39-aa04331e0740",
   "metadata": {},
   "outputs": [
    {
     "name": "stdout",
     "output_type": "stream",
     "text": [
      "0\n",
      "\n",
      "2\n",
      "\n",
      "4\n",
      "\n"
     ]
    }
   ],
   "source": [
    "def is_even(n):\n",
    "    if n % 2 == 0:\n",
    "        return True\n",
    "    else:\n",
    "        return False\n",
    "\n",
    "for n in [0, 1, 2, 3, 4]:\n",
    "    if is_even(n):     # call our function\n",
    "        print(n)\n",
    "        print()        # parentheses without arguments\n"
   ]
  },
  {
   "cell_type": "markdown",
   "id": "c073b92e-7200-434d-8150-4f02308b5923",
   "metadata": {},
   "source": [
    "## Packages\n",
    "\n",
    "By default, you have access to only a few object classes and functions. But you can import (and create) packages and modules that enable many many more. To do this, use `import`. This is typically at the beginning of your Notebook or script, but it can go anywhere.\n",
    "\n",
    "The Standard Python Library (https://docs.python.org/3/library/) contains those that are supported by and installed with Python. `math` is in the Standard Library.  See https://docs.python.org/3/library/math.html for more information on it.\n",
    "\n",
    "Others are available via `pip` or `conda`. `numpy` and `pandas` are examples of these.  "
   ]
  },
  {
   "cell_type": "code",
   "execution_count": 25,
   "id": "e87ff502-4c43-42f9-b1df-8f8920826d05",
   "metadata": {},
   "outputs": [
    {
     "data": {
      "text/plain": [
       "1.0"
      ]
     },
     "execution_count": 25,
     "metadata": {},
     "output_type": "execute_result"
    }
   ],
   "source": [
    "import math\n",
    "\n",
    "math.log10(10)"
   ]
  },
  {
   "cell_type": "code",
   "execution_count": 24,
   "id": "6697e91a-202d-488b-bdee-d53d1cb93780",
   "metadata": {},
   "outputs": [
    {
     "data": {
      "text/plain": [
       "-1.0"
      ]
     },
     "execution_count": 24,
     "metadata": {},
     "output_type": "execute_result"
    }
   ],
   "source": [
    "from math import pi, cos\n",
    "\n",
    "cos(pi)"
   ]
  },
  {
   "cell_type": "code",
   "execution_count": null,
   "id": "53f7dc63-bd54-4f64-85e5-c981768dbe10",
   "metadata": {},
   "outputs": [],
   "source": []
  }
 ],
 "metadata": {
  "kernelspec": {
   "display_name": "Python 3 (ipykernel)",
   "language": "python",
   "name": "python3"
  },
  "language_info": {
   "codemirror_mode": {
    "name": "ipython",
    "version": 3
   },
   "file_extension": ".py",
   "mimetype": "text/x-python",
   "name": "python",
   "nbconvert_exporter": "python",
   "pygments_lexer": "ipython3",
   "version": "3.11.4"
  }
 },
 "nbformat": 4,
 "nbformat_minor": 5
}
